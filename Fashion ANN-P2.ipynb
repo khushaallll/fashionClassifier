{
 "cells": [
  {
   "cell_type": "code",
   "execution_count": 1,
   "id": "4b49db06",
   "metadata": {},
   "outputs": [],
   "source": [
    "import numpy as np\n",
    "import pandas as pd\n",
    "%matplotlib inline\n",
    "import matplotlib as mpl\n",
    "import matplotlib.pyplot as plt"
   ]
  },
  {
   "cell_type": "code",
   "execution_count": 2,
   "id": "72c7b45d",
   "metadata": {},
   "outputs": [],
   "source": [
    "import tensorflow as tf\n",
    "from tensorflow import keras"
   ]
  },
  {
   "cell_type": "code",
   "execution_count": 3,
   "id": "0434edd5",
   "metadata": {},
   "outputs": [],
   "source": [
    "from sklearn.datasets import fetch_california_housing\n",
    "housing = fetch_california_housing()"
   ]
  },
  {
   "cell_type": "markdown",
   "id": "9082321f",
   "metadata": {},
   "source": [
    "### Data Set Characteristics:\n",
    "\n",
    "##### Number of Instances:\n",
    " \t\n",
    "20640\n",
    "\n",
    "##### Number of Attributes:\n",
    " \t\n",
    "8 numeric, predictive attributes and the target\n",
    "\n",
    "##### Attribute Information:\n",
    " \t\n",
    "* MedInc median income in block\n",
    "* HouseAge median house age in block\n",
    "* AveRooms average number of rooms\n",
    "* AveBedrms average number of bedrooms\n",
    "* Population block population\n",
    "* AveOccup average house occupancy\n",
    "* Latitude house block latitude\n",
    "* Longitude house block longitude\n",
    "\n",
    "#### Target\n",
    "\n",
    "The target variable is the median house value in units of 100,000 for California districts.\n",
    "\n",
    "#### Objective\n",
    "Predict the house price using 8 predictor variables\n",
    "\n",
    "#### Documentation \n",
    "https://scikit-learn.org/stable/modules/generated/sklearn.datasets.fetch_california_housing.html#examples-using-sklearn-datasets-fetch-california-housing"
   ]
  },
  {
   "cell_type": "code",
   "execution_count": 4,
   "id": "1952cbcc",
   "metadata": {},
   "outputs": [
    {
     "name": "stdout",
     "output_type": "stream",
     "text": [
      "['MedInc', 'HouseAge', 'AveRooms', 'AveBedrms', 'Population', 'AveOccup', 'Latitude', 'Longitude']\n"
     ]
    }
   ],
   "source": [
    "print(housing.feature_names)"
   ]
  },
  {
   "cell_type": "code",
   "execution_count": 11,
   "id": "8ccd8849",
   "metadata": {},
   "outputs": [
    {
     "name": "stdout",
     "output_type": "stream",
     "text": [
      ".. _california_housing_dataset:\n",
      "\n",
      "California Housing dataset\n",
      "--------------------------\n",
      "\n",
      "**Data Set Characteristics:**\n",
      "\n",
      "    :Number of Instances: 20640\n",
      "\n",
      "    :Number of Attributes: 8 numeric, predictive attributes and the target\n",
      "\n",
      "    :Attribute Information:\n",
      "        - MedInc        median income in block group\n",
      "        - HouseAge      median house age in block group\n",
      "        - AveRooms      average number of rooms per household\n",
      "        - AveBedrms     average number of bedrooms per household\n",
      "        - Population    block group population\n",
      "        - AveOccup      average number of household members\n",
      "        - Latitude      block group latitude\n",
      "        - Longitude     block group longitude\n",
      "\n",
      "    :Missing Attribute Values: None\n",
      "\n",
      "This dataset was obtained from the StatLib repository.\n",
      "https://www.dcc.fc.up.pt/~ltorgo/Regression/cal_housing.html\n",
      "\n",
      "The target variable is the median house value for California districts,\n",
      "expressed in hundreds of thousands of dollars ($100,000).\n",
      "\n",
      "This dataset was derived from the 1990 U.S. census, using one row per census\n",
      "block group. A block group is the smallest geographical unit for which the U.S.\n",
      "Census Bureau publishes sample data (a block group typically has a population\n",
      "of 600 to 3,000 people).\n",
      "\n",
      "An household is a group of people residing within a home. Since the average\n",
      "number of rooms and bedrooms in this dataset are provided per household, these\n",
      "columns may take surpinsingly large values for block groups with few households\n",
      "and many empty houses, such as vacation resorts.\n",
      "\n",
      "It can be downloaded/loaded using the\n",
      ":func:`sklearn.datasets.fetch_california_housing` function.\n",
      "\n",
      ".. topic:: References\n",
      "\n",
      "    - Pace, R. Kelley and Ronald Barry, Sparse Spatial Autoregressions,\n",
      "      Statistics and Probability Letters, 33 (1997) 291-297\n",
      "\n"
     ]
    }
   ],
   "source": [
    "print(housing.DESCR)"
   ]
  },
  {
   "cell_type": "markdown",
   "id": "3f710497",
   "metadata": {},
   "source": [
    "Housing.data => Independent Data\n",
    "\n",
    "Housing.target => Dependent Data"
   ]
  },
  {
   "cell_type": "code",
   "execution_count": 13,
   "id": "175f6e96",
   "metadata": {},
   "outputs": [],
   "source": [
    "from sklearn.model_selection import train_test_split\n",
    "X_train_full, X_test, y_train_full, y_test = train_test_split(housing.data, housing.target, random_state=42)\n",
    "X_train, X_valid, y_train, y_valid = train_test_split(X_train_full, y_train_full, random_state=42)"
   ]
  },
  {
   "cell_type": "code",
   "execution_count": 14,
   "id": "6a76fdf7",
   "metadata": {},
   "outputs": [],
   "source": [
    "from sklearn.preprocessing import StandardScaler\n",
    "scaler = StandardScaler()\n",
    "X_train = scaler.fit_transform(X_train)\n",
    "X_valid = scaler.transform(X_valid)\n",
    "X_test = scaler.transform(X_test)\n",
    "\n",
    "# Scaler is trained on training data only because we do not want information from test set or validation set to influence model training"
   ]
  },
  {
   "cell_type": "code",
   "execution_count": 15,
   "id": "a686faa0",
   "metadata": {},
   "outputs": [],
   "source": [
    "np.random.seed(42)\n",
    "tf.random.set_seed(42)"
   ]
  },
  {
   "cell_type": "code",
   "execution_count": 16,
   "id": "2f390b23",
   "metadata": {},
   "outputs": [
    {
     "data": {
      "text/plain": [
       "((11610, 8), (3870, 8), (5160, 8))"
      ]
     },
     "execution_count": 16,
     "metadata": {},
     "output_type": "execute_result"
    }
   ],
   "source": [
    "X_train.shape, X_valid.shape, X_test.shape"
   ]
  },
  {
   "cell_type": "code",
   "execution_count": 17,
   "id": "f63609a2",
   "metadata": {},
   "outputs": [],
   "source": [
    "model = keras.models.Sequential([\n",
    "    keras.layers.Dense(30, activation='relu', input_shape=[8]),\n",
    "    keras.layers.Dense(30, activation='relu'),\n",
    "    keras.layers.Dense(1)\n",
    "])\n",
    "\n",
    "# Below code can also be used\n",
    "# keras.layers.Dense(30, activation='relu', input_shape=X_train.shape[1:])"
   ]
  },
  {
   "cell_type": "code",
   "execution_count": 18,
   "id": "097c94e9",
   "metadata": {},
   "outputs": [
    {
     "name": "stdout",
     "output_type": "stream",
     "text": [
      "Model: \"sequential\"\n",
      "_________________________________________________________________\n",
      " Layer (type)                Output Shape              Param #   \n",
      "=================================================================\n",
      " dense (Dense)               (None, 30)                270       \n",
      "                                                                 \n",
      " dense_1 (Dense)             (None, 30)                930       \n",
      "                                                                 \n",
      " dense_2 (Dense)             (None, 1)                 31        \n",
      "                                                                 \n",
      "=================================================================\n",
      "Total params: 1,231\n",
      "Trainable params: 1,231\n",
      "Non-trainable params: 0\n",
      "_________________________________________________________________\n"
     ]
    }
   ],
   "source": [
    "model.summary()"
   ]
  },
  {
   "cell_type": "code",
   "execution_count": 20,
   "id": "7f1b36b6",
   "metadata": {},
   "outputs": [],
   "source": [
    "model.compile(loss=\"mean_squared_error\", \n",
    "              optimizer=keras.optimizers.SGD(1e-3), \n",
    "              metrics=['mae'])\n",
    "\n",
    "# loss - mean_squared_error - since it is a regression problem\n",
    "# metrics - mean absolute error - since it is a regression problem"
   ]
  },
  {
   "cell_type": "code",
   "execution_count": 25,
   "id": "5a4e082a",
   "metadata": {},
   "outputs": [
    {
     "name": "stdout",
     "output_type": "stream",
     "text": [
      "Epoch 1/20\n",
      "363/363 [==============================] - 2s 4ms/step - loss: 0.3949 - mae: 0.4489 - val_loss: 0.3695 - val_mae: 0.4322\n",
      "Epoch 2/20\n",
      "363/363 [==============================] - 1s 4ms/step - loss: 0.3922 - mae: 0.4469 - val_loss: 0.3698 - val_mae: 0.4350\n",
      "Epoch 3/20\n",
      "363/363 [==============================] - 1s 4ms/step - loss: 0.3898 - mae: 0.4461 - val_loss: 0.3647 - val_mae: 0.4285\n",
      "Epoch 4/20\n",
      "363/363 [==============================] - 1s 4ms/step - loss: 0.3873 - mae: 0.4439 - val_loss: 0.3632 - val_mae: 0.4309\n",
      "Epoch 5/20\n",
      "363/363 [==============================] - 1s 4ms/step - loss: 0.3851 - mae: 0.4426 - val_loss: 0.3607 - val_mae: 0.4276\n",
      "Epoch 6/20\n",
      "363/363 [==============================] - 1s 4ms/step - loss: 0.3829 - mae: 0.4415 - val_loss: 0.3586 - val_mae: 0.4247\n",
      "Epoch 7/20\n",
      "363/363 [==============================] - 1s 4ms/step - loss: 0.3808 - mae: 0.4398 - val_loss: 0.3563 - val_mae: 0.4240\n",
      "Epoch 8/20\n",
      "363/363 [==============================] - 1s 4ms/step - loss: 0.3788 - mae: 0.4385 - val_loss: 0.3559 - val_mae: 0.4228\n",
      "Epoch 9/20\n",
      "363/363 [==============================] - 1s 4ms/step - loss: 0.3768 - mae: 0.4375 - val_loss: 0.3549 - val_mae: 0.4208\n",
      "Epoch 10/20\n",
      "363/363 [==============================] - 1s 4ms/step - loss: 0.3749 - mae: 0.4359 - val_loss: 0.3526 - val_mae: 0.4193\n",
      "Epoch 11/20\n",
      "363/363 [==============================] - 2s 4ms/step - loss: 0.3732 - mae: 0.4347 - val_loss: 0.3495 - val_mae: 0.4198\n",
      "Epoch 12/20\n",
      "363/363 [==============================] - 1s 4ms/step - loss: 0.3715 - mae: 0.4336 - val_loss: 0.3549 - val_mae: 0.4194\n",
      "Epoch 13/20\n",
      "363/363 [==============================] - 1s 4ms/step - loss: 0.3700 - mae: 0.4327 - val_loss: 0.3515 - val_mae: 0.4206\n",
      "Epoch 14/20\n",
      "363/363 [==============================] - 1s 4ms/step - loss: 0.3684 - mae: 0.4315 - val_loss: 0.3468 - val_mae: 0.4187\n",
      "Epoch 15/20\n",
      "363/363 [==============================] - 1s 4ms/step - loss: 0.3671 - mae: 0.4307 - val_loss: 0.3674 - val_mae: 0.4211\n",
      "Epoch 16/20\n",
      "363/363 [==============================] - 2s 4ms/step - loss: 0.3659 - mae: 0.4305 - val_loss: 0.3437 - val_mae: 0.4162\n",
      "Epoch 17/20\n",
      "363/363 [==============================] - 1s 4ms/step - loss: 0.3648 - mae: 0.4294 - val_loss: 0.3583 - val_mae: 0.4170\n",
      "Epoch 18/20\n",
      "363/363 [==============================] - 1s 4ms/step - loss: 0.3635 - mae: 0.4284 - val_loss: 0.3507 - val_mae: 0.4146\n",
      "Epoch 19/20\n",
      "363/363 [==============================] - 1s 4ms/step - loss: 0.3622 - mae: 0.4272 - val_loss: 0.3451 - val_mae: 0.4143\n",
      "Epoch 20/20\n",
      "363/363 [==============================] - 2s 4ms/step - loss: 0.3613 - mae: 0.4269 - val_loss: 0.3852 - val_mae: 0.4192\n"
     ]
    }
   ],
   "source": [
    "model_history = model.fit(X_train, y_train, epochs=20, validation_data=(X_valid, y_valid))"
   ]
  },
  {
   "cell_type": "code",
   "execution_count": 26,
   "id": "69e0f690",
   "metadata": {},
   "outputs": [
    {
     "name": "stdout",
     "output_type": "stream",
     "text": [
      "162/162 [==============================] - 1s 3ms/step - loss: 0.3596 - mae: 0.4269\n"
     ]
    }
   ],
   "source": [
    "mae_test = model.evaluate(X_test, y_test)"
   ]
  },
  {
   "cell_type": "code",
   "execution_count": 27,
   "id": "7add3e09",
   "metadata": {},
   "outputs": [
    {
     "data": {
      "text/plain": [
       "{'loss': [0.3948921859264374,\n",
       "  0.3922426700592041,\n",
       "  0.38980168104171753,\n",
       "  0.3872992694377899,\n",
       "  0.3851175904273987,\n",
       "  0.3828713893890381,\n",
       "  0.3807542622089386,\n",
       "  0.3787873089313507,\n",
       "  0.37684252858161926,\n",
       "  0.37485167384147644,\n",
       "  0.3732492923736572,\n",
       "  0.37154120206832886,\n",
       "  0.3699616491794586,\n",
       "  0.36844807863235474,\n",
       "  0.3671078085899353,\n",
       "  0.36586400866508484,\n",
       "  0.36476749181747437,\n",
       "  0.36347663402557373,\n",
       "  0.36217090487480164,\n",
       "  0.36128589510917664],\n",
       " 'mae': [0.448872447013855,\n",
       "  0.4469223618507385,\n",
       "  0.4460664689540863,\n",
       "  0.4439034163951874,\n",
       "  0.4425695538520813,\n",
       "  0.4414599537849426,\n",
       "  0.4398252069950104,\n",
       "  0.43846991658210754,\n",
       "  0.43753179907798767,\n",
       "  0.4359448254108429,\n",
       "  0.43472519516944885,\n",
       "  0.43356847763061523,\n",
       "  0.4326536953449249,\n",
       "  0.43151575326919556,\n",
       "  0.4306667149066925,\n",
       "  0.43046441674232483,\n",
       "  0.4293926954269409,\n",
       "  0.4283789396286011,\n",
       "  0.4272266924381256,\n",
       "  0.4268842041492462],\n",
       " 'val_loss': [0.3695237636566162,\n",
       "  0.3698018789291382,\n",
       "  0.364663690328598,\n",
       "  0.3632129728794098,\n",
       "  0.36067742109298706,\n",
       "  0.3586178123950958,\n",
       "  0.35634541511535645,\n",
       "  0.3559223413467407,\n",
       "  0.3549463152885437,\n",
       "  0.3526076376438141,\n",
       "  0.34950217604637146,\n",
       "  0.3549193739891052,\n",
       "  0.35146674513816833,\n",
       "  0.3468173146247864,\n",
       "  0.3674461543560028,\n",
       "  0.3437066078186035,\n",
       "  0.3583333194255829,\n",
       "  0.3507087528705597,\n",
       "  0.34509605169296265,\n",
       "  0.38523393869400024],\n",
       " 'val_mae': [0.43215852975845337,\n",
       "  0.4350142180919647,\n",
       "  0.42847850918769836,\n",
       "  0.4308835566043854,\n",
       "  0.4276125431060791,\n",
       "  0.42469459772109985,\n",
       "  0.4239874482154846,\n",
       "  0.42283952236175537,\n",
       "  0.4207947850227356,\n",
       "  0.41933780908584595,\n",
       "  0.41980209946632385,\n",
       "  0.419432133436203,\n",
       "  0.42056798934936523,\n",
       "  0.41870424151420593,\n",
       "  0.4210851788520813,\n",
       "  0.4162394106388092,\n",
       "  0.41695231199264526,\n",
       "  0.41462698578834534,\n",
       "  0.41430315375328064,\n",
       "  0.4191911220550537]}"
      ]
     },
     "execution_count": 27,
     "metadata": {},
     "output_type": "execute_result"
    }
   ],
   "source": [
    "model_history.history"
   ]
  },
  {
   "cell_type": "code",
   "execution_count": 28,
   "id": "a68a3383",
   "metadata": {},
   "outputs": [
    {
     "data": {
      "image/png": "[encoded data removed]",
      "text/plain": [
       "<Figure size 576x360 with 1 Axes>"
      ]
     },
     "metadata": {
      "needs_background": "light"
     },
     "output_type": "display_data"
    }
   ],
   "source": [
    "pd.DataFrame(model_history.history).plot(figsize=(8, 5))\n",
    "plt.grid(True)\n",
    "plt.gca().set_ylim(0, 1)\n",
    "\n",
    "plt.show()"
   ]
  },
  {
   "cell_type": "markdown",
   "id": "74d0d7f5",
   "metadata": {},
   "source": [
    "### Predicting the value using the model"
   ]
  },
  {
   "cell_type": "code",
   "execution_count": 29,
   "id": "83b14548",
   "metadata": {},
   "outputs": [
    {
     "name": "stdout",
     "output_type": "stream",
     "text": [
      "[[0.60718817]\n",
      " [1.8601768 ]\n",
      " [3.7925074 ]]\n",
      "[0.477   0.458   5.00001]\n"
     ]
    }
   ],
   "source": [
    "X_new = X_test[:3]\n",
    "y_pred = model.predict(X_new)\n",
    "print (y_pred)\n",
    "print(y_test[:3])"
   ]
  },
  {
   "cell_type": "code",
   "execution_count": 30,
   "id": "7b08cb32",
   "metadata": {},
   "outputs": [],
   "source": [
    "del model"
   ]
  },
  {
   "cell_type": "code",
   "execution_count": 31,
   "id": "34f89477",
   "metadata": {},
   "outputs": [],
   "source": [
    "keras.backend.clear_session()"
   ]
  },
  {
   "cell_type": "code",
   "execution_count": null,
   "id": "a91fd967",
   "metadata": {},
   "outputs": [],
   "source": []
  },
  {
   "cell_type": "code",
   "execution_count": null,
   "id": "3653f7ab",
   "metadata": {},
   "outputs": [],
   "source": []
  },
  {
   "cell_type": "code",
   "execution_count": null,
   "id": "c0b01f95",
   "metadata": {},
   "outputs": [],
   "source": []
  },
  {
   "cell_type": "code",
   "execution_count": null,
   "id": "7b2517b6",
   "metadata": {},
   "outputs": [],
   "source": []
  },
  {
   "cell_type": "code",
   "execution_count": null,
   "id": "c7a61db5",
   "metadata": {},
   "outputs": [],
   "source": []
  },
  {
   "cell_type": "markdown",
   "id": "c9acee01",
   "metadata": {},
   "source": [
    "## Functional API\n",
    "Not all neural network models are simply sequential. Some may have complex topologies. Some may have multiple inputs and/or multiple outputs. For example, a Wide & Deep neural network (see [paper](https://ai.google/research/pubs/pub45413)) connects all or part of the inputs directly to the output layer.\n"
   ]
  },
  {
   "attachments": {
    "func.png": {
     "image/png": "[encoded data removed]"
    }
   },
   "cell_type": "markdown",
   "id": "d077690b",
   "metadata": {},
   "source": [
    "![func.png](attachment:func.png)"
   ]
  },
  {
   "cell_type": "markdown",
   "id": "bebb3bf9",
   "metadata": {},
   "source": [
    "* This kind of wide linkage cannot be created in Sequential API\n",
    "* With help of the functional API, neural network can learn from both deep(complex) and wide(simple) patterns."
   ]
  },
  {
   "cell_type": "code",
   "execution_count": 32,
   "id": "3363296a",
   "metadata": {},
   "outputs": [],
   "source": [
    "input_ = keras.layers.Input(shape=X_train.shape[1:])\n",
    "hidden1 = keras.layers.Dense(30, activation='relu')(input_)\n",
    "hidden2 = keras.layers.Dense(30, activation='relu')(hidden1)\n",
    "concat = keras.layers.concatenate([input_, hidden2])\n",
    "output = keras.layers.Dense(1)(concat)\n",
    "model = keras.models.Model(inputs=[input_], outputs=[output])"
   ]
  },
  {
   "cell_type": "code",
   "execution_count": 33,
   "id": "e89a017f",
   "metadata": {},
   "outputs": [
    {
     "name": "stdout",
     "output_type": "stream",
     "text": [
      "Model: \"model\"\n",
      "__________________________________________________________________________________________________\n",
      " Layer (type)                   Output Shape         Param #     Connected to                     \n",
      "==================================================================================================\n",
      " input_1 (InputLayer)           [(None, 8)]          0           []                               \n",
      "                                                                                                  \n",
      " dense (Dense)                  (None, 30)           270         ['input_1[0][0]']                \n",
      "                                                                                                  \n",
      " dense_1 (Dense)                (None, 30)           930         ['dense[0][0]']                  \n",
      "                                                                                                  \n",
      " concatenate (Concatenate)      (None, 38)           0           ['input_1[0][0]',                \n",
      "                                                                  'dense_1[0][0]']                \n",
      "                                                                                                  \n",
      " dense_2 (Dense)                (None, 1)            39          ['concatenate[0][0]']            \n",
      "                                                                                                  \n",
      "==================================================================================================\n",
      "Total params: 1,239\n",
      "Trainable params: 1,239\n",
      "Non-trainable params: 0\n",
      "__________________________________________________________________________________________________\n"
     ]
    }
   ],
   "source": [
    "model.summary()"
   ]
  },
  {
   "cell_type": "code",
   "execution_count": 34,
   "id": "0da16f37",
   "metadata": {},
   "outputs": [],
   "source": [
    "model.compile(loss=\"mean_squared_error\", \n",
    "              optimizer=keras.optimizers.SGD(1e-3), \n",
    "              metrics=['mae'])"
   ]
  },
  {
   "cell_type": "code",
   "execution_count": 35,
   "id": "d0464f4c",
   "metadata": {},
   "outputs": [
    {
     "name": "stdout",
     "output_type": "stream",
     "text": [
      "Epoch 1/80\n",
      "363/363 [==============================] - 2s 3ms/step - loss: 1.6920 - mae: 0.8893 - val_loss: 0.8798 - val_mae: 0.6026\n",
      "Epoch 2/80\n",
      "363/363 [==============================] - 1s 2ms/step - loss: 0.6836 - mae: 0.5994 - val_loss: 0.6420 - val_mae: 0.5764\n",
      "Epoch 3/80\n",
      "363/363 [==============================] - 1s 2ms/step - loss: 0.6265 - mae: 0.5775 - val_loss: 0.5891 - val_mae: 0.5503\n",
      "Epoch 4/80\n",
      "363/363 [==============================] - 1s 2ms/step - loss: 0.5877 - mae: 0.5581 - val_loss: 0.5455 - val_mae: 0.5343\n",
      "Epoch 5/80\n",
      "363/363 [==============================] - 1s 2ms/step - loss: 0.5566 - mae: 0.5421 - val_loss: 0.5409 - val_mae: 0.5202\n",
      "Epoch 6/80\n",
      "363/363 [==============================] - 1s 2ms/step - loss: 0.5312 - mae: 0.5298 - val_loss: 0.4903 - val_mae: 0.5046\n",
      "Epoch 7/80\n",
      "363/363 [==============================] - 1s 2ms/step - loss: 0.5108 - mae: 0.5186 - val_loss: 0.4728 - val_mae: 0.4962\n",
      "Epoch 8/80\n",
      "363/363 [==============================] - 1s 2ms/step - loss: 0.4952 - mae: 0.5096 - val_loss: 0.5017 - val_mae: 0.4921\n",
      "Epoch 9/80\n",
      "363/363 [==============================] - 1s 2ms/step - loss: 0.4802 - mae: 0.5025 - val_loss: 0.4511 - val_mae: 0.4811\n",
      "Epoch 10/80\n",
      "363/363 [==============================] - 1s 2ms/step - loss: 0.4685 - mae: 0.4959 - val_loss: 0.4330 - val_mae: 0.4735\n",
      "Epoch 11/80\n",
      "363/363 [==============================] - 1s 2ms/step - loss: 0.4590 - mae: 0.4897 - val_loss: 0.4991 - val_mae: 0.4778\n",
      "Epoch 12/80\n",
      "363/363 [==============================] - 1s 2ms/step - loss: 0.4502 - mae: 0.4851 - val_loss: 0.4179 - val_mae: 0.4658\n",
      "Epoch 13/80\n",
      "363/363 [==============================] - 1s 2ms/step - loss: 0.4433 - mae: 0.4811 - val_loss: 0.4409 - val_mae: 0.4658\n",
      "Epoch 14/80\n",
      "363/363 [==============================] - 1s 2ms/step - loss: 0.4363 - mae: 0.4766 - val_loss: 0.4239 - val_mae: 0.4621\n",
      "Epoch 15/80\n",
      "363/363 [==============================] - 1s 2ms/step - loss: 0.4306 - mae: 0.4736 - val_loss: 0.4480 - val_mae: 0.4601\n",
      "Epoch 16/80\n",
      "363/363 [==============================] - 1s 2ms/step - loss: 0.4253 - mae: 0.4703 - val_loss: 0.4113 - val_mae: 0.4550\n",
      "Epoch 17/80\n",
      "363/363 [==============================] - 1s 2ms/step - loss: 0.4213 - mae: 0.4676 - val_loss: 0.4454 - val_mae: 0.4538\n",
      "Epoch 18/80\n",
      "363/363 [==============================] - 1s 2ms/step - loss: 0.4168 - mae: 0.4650 - val_loss: 0.4538 - val_mae: 0.4518\n",
      "Epoch 19/80\n",
      "363/363 [==============================] - 1s 2ms/step - loss: 0.4126 - mae: 0.4616 - val_loss: 0.4084 - val_mae: 0.4477\n",
      "Epoch 20/80\n",
      "363/363 [==============================] - 1s 3ms/step - loss: 0.4096 - mae: 0.4600 - val_loss: 0.4581 - val_mae: 0.4505\n",
      "Epoch 21/80\n",
      "363/363 [==============================] - 1s 2ms/step - loss: 0.4060 - mae: 0.4573 - val_loss: 0.4267 - val_mae: 0.4487\n",
      "Epoch 22/80\n",
      "363/363 [==============================] - 1s 2ms/step - loss: 0.4029 - mae: 0.4559 - val_loss: 0.4677 - val_mae: 0.4485\n",
      "Epoch 23/80\n",
      "363/363 [==============================] - 1s 2ms/step - loss: 0.4000 - mae: 0.4542 - val_loss: 0.3940 - val_mae: 0.4390\n",
      "Epoch 24/80\n",
      "363/363 [==============================] - 1s 2ms/step - loss: 0.3972 - mae: 0.4515 - val_loss: 0.4277 - val_mae: 0.4410\n",
      "Epoch 25/80\n",
      "363/363 [==============================] - 1s 3ms/step - loss: 0.3946 - mae: 0.4502 - val_loss: 0.4414 - val_mae: 0.4412\n",
      "Epoch 26/80\n",
      "363/363 [==============================] - 1s 2ms/step - loss: 0.3925 - mae: 0.4488 - val_loss: 0.4365 - val_mae: 0.4393\n",
      "Epoch 27/80\n",
      "363/363 [==============================] - 1s 2ms/step - loss: 0.3905 - mae: 0.4472 - val_loss: 0.3854 - val_mae: 0.4354\n",
      "Epoch 28/80\n",
      "363/363 [==============================] - 1s 2ms/step - loss: 0.3885 - mae: 0.4455 - val_loss: 0.4330 - val_mae: 0.4401\n",
      "Epoch 29/80\n",
      "363/363 [==============================] - 1s 2ms/step - loss: 0.3867 - mae: 0.4448 - val_loss: 0.4135 - val_mae: 0.4373\n",
      "Epoch 30/80\n",
      "363/363 [==============================] - 1s 2ms/step - loss: 0.3848 - mae: 0.4435 - val_loss: 0.4344 - val_mae: 0.4358\n",
      "Epoch 31/80\n",
      "363/363 [==============================] - 1s 3ms/step - loss: 0.3830 - mae: 0.4420 - val_loss: 0.4016 - val_mae: 0.4332\n",
      "Epoch 32/80\n",
      "363/363 [==============================] - 1s 2ms/step - loss: 0.3816 - mae: 0.4410 - val_loss: 0.4459 - val_mae: 0.4380\n",
      "Epoch 33/80\n",
      "363/363 [==============================] - 1s 3ms/step - loss: 0.3805 - mae: 0.4408 - val_loss: 0.3867 - val_mae: 0.4319\n",
      "Epoch 34/80\n",
      "363/363 [==============================] - 1s 2ms/step - loss: 0.3787 - mae: 0.4393 - val_loss: 0.3923 - val_mae: 0.4323\n",
      "Epoch 35/80\n",
      "363/363 [==============================] - 1s 2ms/step - loss: 0.3776 - mae: 0.4383 - val_loss: 0.4512 - val_mae: 0.4358\n",
      "Epoch 36/80\n",
      "363/363 [==============================] - 1s 2ms/step - loss: 0.3763 - mae: 0.4379 - val_loss: 0.3639 - val_mae: 0.4268\n",
      "Epoch 37/80\n",
      "363/363 [==============================] - 1s 2ms/step - loss: 0.3751 - mae: 0.4365 - val_loss: 0.4068 - val_mae: 0.4309\n",
      "Epoch 38/80\n",
      "363/363 [==============================] - 1s 2ms/step - loss: 0.3741 - mae: 0.4362 - val_loss: 0.3776 - val_mae: 0.4276\n",
      "Epoch 39/80\n",
      "363/363 [==============================] - 1s 2ms/step - loss: 0.3728 - mae: 0.4352 - val_loss: 0.3774 - val_mae: 0.4266\n",
      "Epoch 40/80\n",
      "363/363 [==============================] - 1s 2ms/step - loss: 0.3716 - mae: 0.4345 - val_loss: 0.3917 - val_mae: 0.4260\n",
      "Epoch 41/80\n",
      "363/363 [==============================] - 1s 3ms/step - loss: 0.3710 - mae: 0.4335 - val_loss: 0.4055 - val_mae: 0.4283\n",
      "Epoch 42/80\n",
      "363/363 [==============================] - 1s 2ms/step - loss: 0.3703 - mae: 0.4335 - val_loss: 0.4084 - val_mae: 0.4275\n",
      "Epoch 43/80\n",
      "363/363 [==============================] - 1s 2ms/step - loss: 0.3690 - mae: 0.4321 - val_loss: 0.4129 - val_mae: 0.4271\n",
      "Epoch 44/80\n",
      "363/363 [==============================] - 1s 2ms/step - loss: 0.3681 - mae: 0.4314 - val_loss: 0.4302 - val_mae: 0.4296\n",
      "Epoch 45/80\n",
      "363/363 [==============================] - 1s 2ms/step - loss: 0.3677 - mae: 0.4317 - val_loss: 0.3713 - val_mae: 0.4226\n",
      "Epoch 46/80\n",
      "363/363 [==============================] - 1s 2ms/step - loss: 0.3664 - mae: 0.4298 - val_loss: 0.3867 - val_mae: 0.4253\n",
      "Epoch 47/80\n",
      "363/363 [==============================] - 1s 2ms/step - loss: 0.3657 - mae: 0.4303 - val_loss: 0.3763 - val_mae: 0.4221\n",
      "Epoch 48/80\n",
      "363/363 [==============================] - 1s 2ms/step - loss: 0.3648 - mae: 0.4289 - val_loss: 0.4181 - val_mae: 0.4262\n",
      "Epoch 49/80\n",
      "363/363 [==============================] - 1s 3ms/step - loss: 0.3646 - mae: 0.4290 - val_loss: 0.3607 - val_mae: 0.4219\n",
      "Epoch 50/80\n",
      "363/363 [==============================] - 1s 2ms/step - loss: 0.3633 - mae: 0.4282 - val_loss: 0.3506 - val_mae: 0.4189\n",
      "Epoch 51/80\n",
      "363/363 [==============================] - 1s 2ms/step - loss: 0.3625 - mae: 0.4271 - val_loss: 0.4003 - val_mae: 0.4252\n",
      "Epoch 52/80\n",
      "363/363 [==============================] - 1s 2ms/step - loss: 0.3619 - mae: 0.4272 - val_loss: 0.3504 - val_mae: 0.4176\n",
      "Epoch 53/80\n",
      "363/363 [==============================] - 1s 2ms/step - loss: 0.3611 - mae: 0.4263 - val_loss: 0.4271 - val_mae: 0.4234\n",
      "Epoch 54/80\n",
      "363/363 [==============================] - 1s 3ms/step - loss: 0.3606 - mae: 0.4259 - val_loss: 0.3470 - val_mae: 0.4186\n",
      "Epoch 55/80\n",
      "363/363 [==============================] - 1s 2ms/step - loss: 0.3598 - mae: 0.4258 - val_loss: 0.3646 - val_mae: 0.4183\n",
      "Epoch 56/80\n",
      "363/363 [==============================] - 1s 3ms/step - loss: 0.3590 - mae: 0.4248 - val_loss: 0.3639 - val_mae: 0.4185\n",
      "Epoch 57/80\n",
      "363/363 [==============================] - 1s 2ms/step - loss: 0.3584 - mae: 0.4246 - val_loss: 0.3477 - val_mae: 0.4157\n",
      "Epoch 58/80\n",
      "363/363 [==============================] - 1s 2ms/step - loss: 0.3576 - mae: 0.4236 - val_loss: 0.4117 - val_mae: 0.4197\n",
      "Epoch 59/80\n",
      "363/363 [==============================] - 1s 2ms/step - loss: 0.3575 - mae: 0.4237 - val_loss: 0.3817 - val_mae: 0.4192\n",
      "Epoch 60/80\n",
      "363/363 [==============================] - 1s 3ms/step - loss: 0.3567 - mae: 0.4231 - val_loss: 0.3610 - val_mae: 0.4184\n",
      "Epoch 61/80\n",
      "363/363 [==============================] - 1s 2ms/step - loss: 0.3557 - mae: 0.4223 - val_loss: 0.3888 - val_mae: 0.4229\n",
      "Epoch 62/80\n",
      "363/363 [==============================] - 1s 2ms/step - loss: 0.3556 - mae: 0.4225 - val_loss: 0.3694 - val_mae: 0.4167\n",
      "Epoch 63/80\n",
      "363/363 [==============================] - 1s 2ms/step - loss: 0.3543 - mae: 0.4214 - val_loss: 0.3630 - val_mae: 0.4180\n",
      "Epoch 64/80\n",
      "363/363 [==============================] - 1s 2ms/step - loss: 0.3544 - mae: 0.4217 - val_loss: 0.3432 - val_mae: 0.4145\n",
      "Epoch 65/80\n",
      "363/363 [==============================] - 1s 3ms/step - loss: 0.3537 - mae: 0.4213 - val_loss: 0.3550 - val_mae: 0.4144\n",
      "Epoch 66/80\n",
      "363/363 [==============================] - 1s 2ms/step - loss: 0.3530 - mae: 0.4206 - val_loss: 0.3572 - val_mae: 0.4142\n",
      "Epoch 67/80\n",
      "363/363 [==============================] - 1s 2ms/step - loss: 0.3524 - mae: 0.4202 - val_loss: 0.3724 - val_mae: 0.4162\n",
      "Epoch 68/80\n",
      "363/363 [==============================] - 1s 2ms/step - loss: 0.3520 - mae: 0.4198 - val_loss: 0.3612 - val_mae: 0.4137\n",
      "Epoch 69/80\n",
      "363/363 [==============================] - 1s 2ms/step - loss: 0.3515 - mae: 0.4189 - val_loss: 0.3507 - val_mae: 0.4146\n",
      "Epoch 70/80\n",
      "363/363 [==============================] - 1s 2ms/step - loss: 0.3506 - mae: 0.4192 - val_loss: 0.3819 - val_mae: 0.4138\n",
      "Epoch 71/80\n",
      "363/363 [==============================] - 1s 2ms/step - loss: 0.3507 - mae: 0.4188 - val_loss: 0.3770 - val_mae: 0.4150\n",
      "Epoch 72/80\n",
      "363/363 [==============================] - 1s 2ms/step - loss: 0.3500 - mae: 0.4185 - val_loss: 0.3628 - val_mae: 0.4125\n",
      "Epoch 73/80\n",
      "363/363 [==============================] - 1s 2ms/step - loss: 0.3490 - mae: 0.4179 - val_loss: 0.3357 - val_mae: 0.4089\n",
      "Epoch 74/80\n",
      "363/363 [==============================] - 1s 2ms/step - loss: 0.3492 - mae: 0.4176 - val_loss: 0.3911 - val_mae: 0.4142\n",
      "Epoch 75/80\n",
      "363/363 [==============================] - 1s 2ms/step - loss: 0.3484 - mae: 0.4168 - val_loss: 0.3896 - val_mae: 0.4159\n",
      "Epoch 76/80\n",
      "363/363 [==============================] - 1s 2ms/step - loss: 0.3481 - mae: 0.4171 - val_loss: 0.3493 - val_mae: 0.4099\n",
      "Epoch 77/80\n",
      "363/363 [==============================] - 1s 2ms/step - loss: 0.3472 - mae: 0.4159 - val_loss: 0.3889 - val_mae: 0.4151\n",
      "Epoch 78/80\n",
      "363/363 [==============================] - 1s 2ms/step - loss: 0.3469 - mae: 0.4166 - val_loss: 0.3658 - val_mae: 0.4123\n",
      "Epoch 79/80\n",
      "363/363 [==============================] - 1s 2ms/step - loss: 0.3463 - mae: 0.4157 - val_loss: 0.3641 - val_mae: 0.4115\n",
      "Epoch 80/80\n",
      "363/363 [==============================] - 1s 3ms/step - loss: 0.3458 - mae: 0.4156 - val_loss: 0.3647 - val_mae: 0.4104\n"
     ]
    }
   ],
   "source": [
    "model_history = model.fit(X_train, y_train, epochs=80, validation_data=(X_valid, y_valid))"
   ]
  },
  {
   "cell_type": "code",
   "execution_count": 36,
   "id": "5902ae82",
   "metadata": {},
   "outputs": [
    {
     "name": "stdout",
     "output_type": "stream",
     "text": [
      "162/162 [==============================] - 0s 2ms/step - loss: 0.3452 - mae: 0.4147\n"
     ]
    }
   ],
   "source": [
    "mae_test = model.evaluate(X_test, y_test)\n"
   ]
  },
  {
   "cell_type": "code",
   "execution_count": 38,
   "id": "a551274a",
   "metadata": {},
   "outputs": [
    {
     "data": {
      "text/plain": [
       "{'loss': [1.6920058727264404,\n",
       "  0.6836402416229248,\n",
       "  0.6264882683753967,\n",
       "  0.5877465605735779,\n",
       "  0.5565560460090637,\n",
       "  0.5311980843544006,\n",
       "  0.5107864141464233,\n",
       "  0.4951668083667755,\n",
       "  0.48022276163101196,\n",
       "  0.4684668779373169,\n",
       "  0.4589638411998749,\n",
       "  0.45022058486938477,\n",
       "  0.4432658851146698,\n",
       "  0.43632543087005615,\n",
       "  0.43062451481819153,\n",
       "  0.4253447949886322,\n",
       "  0.42129331827163696,\n",
       "  0.4168177843093872,\n",
       "  0.4126453101634979,\n",
       "  0.40958571434020996,\n",
       "  0.4059634208679199,\n",
       "  0.40294399857521057,\n",
       "  0.40004560351371765,\n",
       "  0.3971884846687317,\n",
       "  0.39462149143218994,\n",
       "  0.3924905061721802,\n",
       "  0.39049339294433594,\n",
       "  0.3884531259536743,\n",
       "  0.38671207427978516,\n",
       "  0.3848456144332886,\n",
       "  0.3829538822174072,\n",
       "  0.3815852701663971,\n",
       "  0.3805288076400757,\n",
       "  0.37870272994041443,\n",
       "  0.3775632083415985,\n",
       "  0.37630152702331543,\n",
       "  0.37508344650268555,\n",
       "  0.37408941984176636,\n",
       "  0.3728184998035431,\n",
       "  0.37164586782455444,\n",
       "  0.3710441291332245,\n",
       "  0.3702850043773651,\n",
       "  0.3690377175807953,\n",
       "  0.3680500090122223,\n",
       "  0.36772868037223816,\n",
       "  0.3663526177406311,\n",
       "  0.3656564950942993,\n",
       "  0.36475008726119995,\n",
       "  0.36455199122428894,\n",
       "  0.36326098442077637,\n",
       "  0.362486332654953,\n",
       "  0.3619081377983093,\n",
       "  0.3611173629760742,\n",
       "  0.3606138229370117,\n",
       "  0.359813392162323,\n",
       "  0.35897091031074524,\n",
       "  0.3583967089653015,\n",
       "  0.35761725902557373,\n",
       "  0.3574787676334381,\n",
       "  0.3566749393939972,\n",
       "  0.35566410422325134,\n",
       "  0.35561442375183105,\n",
       "  0.35429275035858154,\n",
       "  0.35437652468681335,\n",
       "  0.35372188687324524,\n",
       "  0.3529878854751587,\n",
       "  0.3524045944213867,\n",
       "  0.3519887328147888,\n",
       "  0.35154733061790466,\n",
       "  0.350637823343277,\n",
       "  0.3507055938243866,\n",
       "  0.3499549925327301,\n",
       "  0.349032998085022,\n",
       "  0.3492129445075989,\n",
       "  0.34838631749153137,\n",
       "  0.34808942675590515,\n",
       "  0.3472099304199219,\n",
       "  0.3469075858592987,\n",
       "  0.3462998569011688,\n",
       "  0.34584516286849976],\n",
       " 'mae': [0.8892966508865356,\n",
       "  0.5993583798408508,\n",
       "  0.577479362487793,\n",
       "  0.5581422448158264,\n",
       "  0.542133629322052,\n",
       "  0.5297517776489258,\n",
       "  0.518592119216919,\n",
       "  0.5096290111541748,\n",
       "  0.5025359392166138,\n",
       "  0.49592792987823486,\n",
       "  0.4896959960460663,\n",
       "  0.4850703179836273,\n",
       "  0.48114871978759766,\n",
       "  0.4765703082084656,\n",
       "  0.47358444333076477,\n",
       "  0.4702606499195099,\n",
       "  0.4675999581813812,\n",
       "  0.4649639427661896,\n",
       "  0.46159064769744873,\n",
       "  0.46004417538642883,\n",
       "  0.45733100175857544,\n",
       "  0.4559226632118225,\n",
       "  0.45419758558273315,\n",
       "  0.45146194100379944,\n",
       "  0.4502381384372711,\n",
       "  0.4487718939781189,\n",
       "  0.4472378194332123,\n",
       "  0.4455063045024872,\n",
       "  0.4448150098323822,\n",
       "  0.44350168108940125,\n",
       "  0.44200778007507324,\n",
       "  0.44095417857170105,\n",
       "  0.44078654050827026,\n",
       "  0.43926259875297546,\n",
       "  0.4382910132408142,\n",
       "  0.43786677718162537,\n",
       "  0.43653446435928345,\n",
       "  0.436222642660141,\n",
       "  0.43521827459335327,\n",
       "  0.434486448764801,\n",
       "  0.4334585666656494,\n",
       "  0.43345314264297485,\n",
       "  0.432140976190567,\n",
       "  0.4314310848712921,\n",
       "  0.43174102902412415,\n",
       "  0.42976635694503784,\n",
       "  0.4303136467933655,\n",
       "  0.4289472997188568,\n",
       "  0.4289749562740326,\n",
       "  0.42815738916397095,\n",
       "  0.4270515739917755,\n",
       "  0.427164763212204,\n",
       "  0.4262988567352295,\n",
       "  0.42586228251457214,\n",
       "  0.42575913667678833,\n",
       "  0.4248175621032715,\n",
       "  0.424571692943573,\n",
       "  0.4236467480659485,\n",
       "  0.4236863851547241,\n",
       "  0.4231050908565521,\n",
       "  0.4223305881023407,\n",
       "  0.42253702878952026,\n",
       "  0.4214152693748474,\n",
       "  0.42169424891471863,\n",
       "  0.4213474690914154,\n",
       "  0.4206335246562958,\n",
       "  0.42016860842704773,\n",
       "  0.4198181927204132,\n",
       "  0.4188779890537262,\n",
       "  0.4192088544368744,\n",
       "  0.41879576444625854,\n",
       "  0.4185141324996948,\n",
       "  0.41794687509536743,\n",
       "  0.41760149598121643,\n",
       "  0.4168308675289154,\n",
       "  0.41712331771850586,\n",
       "  0.41589808464050293,\n",
       "  0.41655436158180237,\n",
       "  0.4157275855541229,\n",
       "  0.4156014919281006],\n",
       " 'val_loss': [0.8797985315322876,\n",
       "  0.6420255303382874,\n",
       "  0.5890798568725586,\n",
       "  0.5454671382904053,\n",
       "  0.5408936142921448,\n",
       "  0.4903126060962677,\n",
       "  0.4728316068649292,\n",
       "  0.5017260313034058,\n",
       "  0.45106446743011475,\n",
       "  0.4330177903175354,\n",
       "  0.4991108477115631,\n",
       "  0.4179283380508423,\n",
       "  0.4408893585205078,\n",
       "  0.4238837957382202,\n",
       "  0.44802552461624146,\n",
       "  0.4113348722457886,\n",
       "  0.445415735244751,\n",
       "  0.45375218987464905,\n",
       "  0.4084298610687256,\n",
       "  0.4580708146095276,\n",
       "  0.42670390009880066,\n",
       "  0.46774908900260925,\n",
       "  0.3939911723136902,\n",
       "  0.42766517400741577,\n",
       "  0.44141989946365356,\n",
       "  0.436546266078949,\n",
       "  0.38541802763938904,\n",
       "  0.43296658992767334,\n",
       "  0.41352131962776184,\n",
       "  0.4344019591808319,\n",
       "  0.4016209840774536,\n",
       "  0.4458746314048767,\n",
       "  0.3866635859012604,\n",
       "  0.39229077100753784,\n",
       "  0.4512398838996887,\n",
       "  0.36393219232559204,\n",
       "  0.40682992339134216,\n",
       "  0.3775857090950012,\n",
       "  0.3774245083332062,\n",
       "  0.39174845814704895,\n",
       "  0.405538409948349,\n",
       "  0.40836992859840393,\n",
       "  0.41288045048713684,\n",
       "  0.43019354343414307,\n",
       "  0.37131205201148987,\n",
       "  0.38674724102020264,\n",
       "  0.3763342499732971,\n",
       "  0.41812554001808167,\n",
       "  0.36066558957099915,\n",
       "  0.35056743025779724,\n",
       "  0.40025594830513,\n",
       "  0.3503972589969635,\n",
       "  0.4270893931388855,\n",
       "  0.3469976484775543,\n",
       "  0.3645856976509094,\n",
       "  0.3639453649520874,\n",
       "  0.3477465808391571,\n",
       "  0.4117267429828644,\n",
       "  0.38166671991348267,\n",
       "  0.3609696924686432,\n",
       "  0.38877469301223755,\n",
       "  0.369414359331131,\n",
       "  0.3630032539367676,\n",
       "  0.3432124853134155,\n",
       "  0.3550044000148773,\n",
       "  0.3571634590625763,\n",
       "  0.3724455237388611,\n",
       "  0.36120787262916565,\n",
       "  0.35071423649787903,\n",
       "  0.3819429576396942,\n",
       "  0.37697118520736694,\n",
       "  0.36281049251556396,\n",
       "  0.33571016788482666,\n",
       "  0.39110541343688965,\n",
       "  0.38962578773498535,\n",
       "  0.34927403926849365,\n",
       "  0.3889255225658417,\n",
       "  0.36581677198410034,\n",
       "  0.36409083008766174,\n",
       "  0.3647440969944],\n",
       " 'val_mae': [0.6026318669319153,\n",
       "  0.5763724446296692,\n",
       "  0.5502772331237793,\n",
       "  0.534281313419342,\n",
       "  0.5201656818389893,\n",
       "  0.5045694708824158,\n",
       "  0.49619969725608826,\n",
       "  0.49206575751304626,\n",
       "  0.4810589551925659,\n",
       "  0.47347649931907654,\n",
       "  0.477807879447937,\n",
       "  0.4658489525318146,\n",
       "  0.4657769799232483,\n",
       "  0.4620634913444519,\n",
       "  0.4600689709186554,\n",
       "  0.4549534022808075,\n",
       "  0.4538327157497406,\n",
       "  0.45184817910194397,\n",
       "  0.4477097988128662,\n",
       "  0.4505429267883301,\n",
       "  0.44869187474250793,\n",
       "  0.44846776127815247,\n",
       "  0.43899065256118774,\n",
       "  0.44097667932510376,\n",
       "  0.4411579370498657,\n",
       "  0.4393341541290283,\n",
       "  0.4353789985179901,\n",
       "  0.4401053786277771,\n",
       "  0.43728479743003845,\n",
       "  0.43582433462142944,\n",
       "  0.4331952929496765,\n",
       "  0.43800055980682373,\n",
       "  0.43194642663002014,\n",
       "  0.432259738445282,\n",
       "  0.43577852845191956,\n",
       "  0.4268355369567871,\n",
       "  0.4309141933917999,\n",
       "  0.4276343584060669,\n",
       "  0.42661285400390625,\n",
       "  0.42602089047431946,\n",
       "  0.42825573682785034,\n",
       "  0.42754366993904114,\n",
       "  0.4270736873149872,\n",
       "  0.4296303689479828,\n",
       "  0.422598272562027,\n",
       "  0.425282746553421,\n",
       "  0.42213505506515503,\n",
       "  0.4262418746948242,\n",
       "  0.4218786954879761,\n",
       "  0.4188556373119354,\n",
       "  0.4252450168132782,\n",
       "  0.41758501529693604,\n",
       "  0.423446923494339,\n",
       "  0.418613463640213,\n",
       "  0.41825684905052185,\n",
       "  0.4185183644294739,\n",
       "  0.415671706199646,\n",
       "  0.41971537470817566,\n",
       "  0.4191548526287079,\n",
       "  0.41838017106056213,\n",
       "  0.4229029417037964,\n",
       "  0.41665905714035034,\n",
       "  0.4179990887641907,\n",
       "  0.41445469856262207,\n",
       "  0.41435492038726807,\n",
       "  0.41424059867858887,\n",
       "  0.416226863861084,\n",
       "  0.41365015506744385,\n",
       "  0.4145650565624237,\n",
       "  0.41377323865890503,\n",
       "  0.41499993205070496,\n",
       "  0.41254252195358276,\n",
       "  0.4088892340660095,\n",
       "  0.4141554832458496,\n",
       "  0.4159051477909088,\n",
       "  0.40988844633102417,\n",
       "  0.415138304233551,\n",
       "  0.41233354806900024,\n",
       "  0.41146591305732727,\n",
       "  0.4103710949420929]}"
      ]
     },
     "execution_count": 38,
     "metadata": {},
     "output_type": "execute_result"
    }
   ],
   "source": [
    "model_history.history"
   ]
  },
  {
   "cell_type": "code",
   "execution_count": 39,
   "id": "d079f537",
   "metadata": {},
   "outputs": [
    {
     "data": {
      "image/png": "[encoded data removed]",
      "text/plain": [
       "<Figure size 576x360 with 1 Axes>"
      ]
     },
     "metadata": {
      "needs_background": "light"
     },
     "output_type": "display_data"
    }
   ],
   "source": [
    "pd.DataFrame(model_history.history).plot(figsize=(8, 5))\n",
    "plt.grid(True)\n",
    "plt.gca().set_ylim(0, 1)\n",
    "\n",
    "plt.show()"
   ]
  },
  {
   "cell_type": "markdown",
   "id": "a90f340e",
   "metadata": {},
   "source": [
    "### Saving and Restoring"
   ]
  },
  {
   "cell_type": "code",
   "execution_count": 40,
   "id": "aaa41e73",
   "metadata": {},
   "outputs": [],
   "source": [
    "model.save(\"SELFfunctionalAPI.h5\")"
   ]
  },
  {
   "cell_type": "code",
   "execution_count": 41,
   "id": "a36e9c1c",
   "metadata": {},
   "outputs": [
    {
     "data": {
      "text/plain": [
       "'C:\\\\Users\\\\kolik\\\\Deep Learning\\\\Mod2 Artificial Neural Networks'"
      ]
     },
     "execution_count": 41,
     "metadata": {},
     "output_type": "execute_result"
    }
   ],
   "source": [
    "%pwd"
   ]
  },
  {
   "cell_type": "code",
   "execution_count": 47,
   "id": "47f79b67",
   "metadata": {},
   "outputs": [],
   "source": [
    "del model"
   ]
  },
  {
   "cell_type": "code",
   "execution_count": 48,
   "id": "1eb2565b",
   "metadata": {},
   "outputs": [],
   "source": [
    "keras.backend.clear_session()"
   ]
  },
  {
   "cell_type": "code",
   "execution_count": 44,
   "id": "bb823e5d",
   "metadata": {},
   "outputs": [],
   "source": [
    "model = keras.models.load_model(\"SELFfunctionalAPI.h5\")"
   ]
  },
  {
   "cell_type": "code",
   "execution_count": 45,
   "id": "2b5bc553",
   "metadata": {},
   "outputs": [
    {
     "name": "stdout",
     "output_type": "stream",
     "text": [
      "Model: \"model\"\n",
      "__________________________________________________________________________________________________\n",
      " Layer (type)                   Output Shape         Param #     Connected to                     \n",
      "==================================================================================================\n",
      " input_1 (InputLayer)           [(None, 8)]          0           []                               \n",
      "                                                                                                  \n",
      " dense (Dense)                  (None, 30)           270         ['input_1[0][0]']                \n",
      "                                                                                                  \n",
      " dense_1 (Dense)                (None, 30)           930         ['dense[0][0]']                  \n",
      "                                                                                                  \n",
      " concatenate (Concatenate)      (None, 38)           0           ['input_1[0][0]',                \n",
      "                                                                  'dense_1[0][0]']                \n",
      "                                                                                                  \n",
      " dense_2 (Dense)                (None, 1)            39          ['concatenate[0][0]']            \n",
      "                                                                                                  \n",
      "==================================================================================================\n",
      "Total params: 1,239\n",
      "Trainable params: 1,239\n",
      "Non-trainable params: 0\n",
      "__________________________________________________________________________________________________\n"
     ]
    }
   ],
   "source": [
    "model.summary()"
   ]
  },
  {
   "cell_type": "code",
   "execution_count": 46,
   "id": "9cdaddaf",
   "metadata": {},
   "outputs": [
    {
     "name": "stdout",
     "output_type": "stream",
     "text": [
      "[[0.7181244]\n",
      " [1.6816441]\n",
      " [4.1709065]]\n"
     ]
    }
   ],
   "source": [
    "y_pred = model.predict(X_new)\n",
    "print(y_pred)"
   ]
  },
  {
   "cell_type": "markdown",
   "id": "0d53dd2e",
   "metadata": {},
   "source": [
    "* Model can be saved only after complete training.\n",
    "* But there can be models which take 8 to 10 hours to train. In this case Callbacks allow you to save a model while training after each epoch."
   ]
  },
  {
   "cell_type": "markdown",
   "id": "3d5af1df",
   "metadata": {},
   "source": [
    "## Using Callbacks during Training"
   ]
  },
  {
   "cell_type": "code",
   "execution_count": 49,
   "id": "2db16f10",
   "metadata": {},
   "outputs": [],
   "source": [
    "keras.backend.clear_session()\n",
    "np.random.seed(42)\n",
    "tf.random.set_seed(42)"
   ]
  },
  {
   "cell_type": "code",
   "execution_count": 50,
   "id": "a6f92131",
   "metadata": {},
   "outputs": [],
   "source": [
    "model = keras.models.Sequential([\n",
    "    keras.layers.Dense(30, activation=\"relu\", input_shape=[8]),\n",
    "    keras.layers.Dense(30, activation=\"relu\"),\n",
    "    keras.layers.Dense(1)\n",
    "])    "
   ]
  },
  {
   "cell_type": "code",
   "execution_count": 51,
   "id": "433cbe71",
   "metadata": {},
   "outputs": [],
   "source": [
    "model.compile(loss=\"mse\", optimizer=keras.optimizers.SGD(1e-3))"
   ]
  },
  {
   "cell_type": "code",
   "execution_count": 52,
   "id": "fdd8500f",
   "metadata": {},
   "outputs": [],
   "source": [
    "checkpoint_cb = keras.callbacks.ModelCheckpoint(\"Model-{epoch:02d}.h5\")"
   ]
  },
  {
   "cell_type": "code",
   "execution_count": 53,
   "id": "2e1c9de9",
   "metadata": {},
   "outputs": [
    {
     "name": "stdout",
     "output_type": "stream",
     "text": [
      "Epoch 1/10\n",
      "363/363 [==============================] - 1s 2ms/step - loss: 1.8866 - val_loss: 0.7126\n",
      "Epoch 2/10\n",
      "363/363 [==============================] - 1s 1ms/step - loss: 0.6577 - val_loss: 0.6880\n",
      "Epoch 3/10\n",
      "363/363 [==============================] - 1s 1ms/step - loss: 0.5934 - val_loss: 0.5803\n",
      "Epoch 4/10\n",
      "363/363 [==============================] - 0s 1ms/step - loss: 0.5557 - val_loss: 0.5166\n",
      "Epoch 5/10\n",
      "363/363 [==============================] - 1s 1ms/step - loss: 0.5272 - val_loss: 0.4895\n",
      "Epoch 6/10\n",
      "363/363 [==============================] - 1s 1ms/step - loss: 0.5033 - val_loss: 0.4951\n",
      "Epoch 7/10\n",
      "363/363 [==============================] - 1s 2ms/step - loss: 0.4854 - val_loss: 0.4861\n",
      "Epoch 8/10\n",
      "363/363 [==============================] - 1s 1ms/step - loss: 0.4709 - val_loss: 0.4554\n",
      "Epoch 9/10\n",
      "363/363 [==============================] - 1s 1ms/step - loss: 0.4578 - val_loss: 0.4413\n",
      "Epoch 10/10\n",
      "363/363 [==============================] - 1s 1ms/step - loss: 0.4474 - val_loss: 0.4379\n"
     ]
    }
   ],
   "source": [
    "history = model.fit(X_train, y_train, epochs=10,\n",
    "                    validation_data=(X_valid, y_valid),\n",
    "                    callbacks=[checkpoint_cb])"
   ]
  },
  {
   "cell_type": "code",
   "execution_count": 54,
   "id": "7b5067c2",
   "metadata": {},
   "outputs": [],
   "source": [
    "del model\n",
    "keras.backend.clear_session()"
   ]
  },
  {
   "cell_type": "markdown",
   "id": "206c0ea8",
   "metadata": {},
   "source": [
    "__Best Model Only__"
   ]
  },
  {
   "cell_type": "code",
   "execution_count": 55,
   "id": "fbbfcbf4",
   "metadata": {},
   "outputs": [],
   "source": [
    "model = keras.models.Sequential([\n",
    "    keras.layers.Dense(30, activation=\"relu\", input_shape=[8]),\n",
    "    keras.layers.Dense(30, activation=\"relu\"),\n",
    "    keras.layers.Dense(1)\n",
    "])    "
   ]
  },
  {
   "cell_type": "code",
   "execution_count": 56,
   "id": "4a4d5196",
   "metadata": {},
   "outputs": [],
   "source": [
    "model.compile(loss=\"mse\", optimizer=keras.optimizers.SGD(1e-3))"
   ]
  },
  {
   "cell_type": "code",
   "execution_count": 57,
   "id": "533a7853",
   "metadata": {},
   "outputs": [],
   "source": [
    "checkpoint_cb = keras.callbacks.ModelCheckpoint(\"Best_Model.h5\", save_best_only=True)"
   ]
  },
  {
   "cell_type": "code",
   "execution_count": 58,
   "id": "155bba28",
   "metadata": {},
   "outputs": [
    {
     "name": "stdout",
     "output_type": "stream",
     "text": [
      "Epoch 1/10\n",
      "363/363 [==============================] - 1s 2ms/step - loss: 1.8542 - val_loss: 1.3779\n",
      "Epoch 2/10\n",
      "363/363 [==============================] - 1s 1ms/step - loss: 0.7854 - val_loss: 0.6885\n",
      "Epoch 3/10\n",
      "363/363 [==============================] - 0s 1ms/step - loss: 0.6817 - val_loss: 0.6645\n",
      "Epoch 4/10\n",
      "363/363 [==============================] - 0s 1ms/step - loss: 0.6283 - val_loss: 0.5944\n",
      "Epoch 5/10\n",
      "363/363 [==============================] - 1s 1ms/step - loss: 0.5868 - val_loss: 0.5505\n",
      "Epoch 6/10\n",
      "363/363 [==============================] - 0s 1ms/step - loss: 0.5510 - val_loss: 0.5211\n",
      "Epoch 7/10\n",
      "363/363 [==============================] - 1s 1ms/step - loss: 0.5225 - val_loss: 0.5055\n",
      "Epoch 8/10\n",
      "363/363 [==============================] - 1s 1ms/step - loss: 0.4993 - val_loss: 0.4648\n",
      "Epoch 9/10\n",
      "363/363 [==============================] - 1s 1ms/step - loss: 0.4803 - val_loss: 0.4442\n",
      "Epoch 10/10\n",
      "363/363 [==============================] - 1s 1ms/step - loss: 0.4649 - val_loss: 0.4304\n"
     ]
    }
   ],
   "source": [
    "history = model.fit(X_train, y_train, epochs=10,\n",
    "                    validation_data=(X_valid, y_valid),\n",
    "                    callbacks=[checkpoint_cb])"
   ]
  },
  {
   "cell_type": "code",
   "execution_count": 59,
   "id": "b4a0db05",
   "metadata": {},
   "outputs": [
    {
     "name": "stdout",
     "output_type": "stream",
     "text": [
      "162/162 [==============================] - 0s 954us/step - loss: 0.4472\n"
     ]
    }
   ],
   "source": [
    "model = keras.models.load_model(\"Best_Model.h5\") # rollback to best model\n",
    "mse_test = model.evaluate(X_test, y_test)"
   ]
  },
  {
   "cell_type": "markdown",
   "id": "4f22c406",
   "metadata": {},
   "source": [
    "### Best Model Only - Early Stopping"
   ]
  },
  {
   "cell_type": "markdown",
   "id": "50de1187",
   "metadata": {},
   "source": [
    "* Run the model for large epoch value\n",
    "* Val accuracy is checked at each epoch. \n",
    "* After certain epochs if the val accuracy is not improving then the training is stopped at that point and the model with best validation score will be used.\n",
    "* This is best case scenario."
   ]
  },
  {
   "cell_type": "code",
   "execution_count": 60,
   "id": "b52ffd7d",
   "metadata": {},
   "outputs": [],
   "source": [
    "del model\n",
    "keras.backend.clear_session()"
   ]
  },
  {
   "cell_type": "code",
   "execution_count": 61,
   "id": "54c191c1",
   "metadata": {},
   "outputs": [],
   "source": [
    "model = keras.models.Sequential([\n",
    "    keras.layers.Dense(30, activation=\"relu\", input_shape=[8]),\n",
    "    keras.layers.Dense(30, activation=\"relu\"),\n",
    "    keras.layers.Dense(1)\n",
    "]) "
   ]
  },
  {
   "cell_type": "code",
   "execution_count": 63,
   "id": "96796640",
   "metadata": {},
   "outputs": [],
   "source": [
    "model.compile(loss=\"mse\", optimizer=keras.optimizers.SGD(1e-3))"
   ]
  },
  {
   "cell_type": "code",
   "execution_count": 64,
   "id": "02eef25c",
   "metadata": {},
   "outputs": [],
   "source": [
    "checkpoint_cb = keras.callbacks.ModelCheckpoint(\"early_stop_model.h5\", save_best_only=True)"
   ]
  },
  {
   "cell_type": "code",
   "execution_count": 67,
   "id": "3e0c8b18",
   "metadata": {},
   "outputs": [],
   "source": [
    "early_stopping_cb = keras.callbacks.EarlyStopping(patience=10,\n",
    "                                                  restore_best_weights=True)\n",
    "\n",
    "# patience: Number of epochs with no improvement after which training will be stopped.\n",
    "# if after 53 epochs the performance measure is not increasing then keras will check untill +10 i.e 63 and then stop training"
   ]
  },
  {
   "cell_type": "code",
   "execution_count": 68,
   "id": "c5b5ae9f",
   "metadata": {},
   "outputs": [
    {
     "name": "stdout",
     "output_type": "stream",
     "text": [
      "Epoch 1/200\n",
      "363/363 [==============================] - 1s 2ms/step - loss: 2.0148 - val_loss: 1.4007\n",
      "Epoch 2/200\n",
      "363/363 [==============================] - 1s 1ms/step - loss: 0.7735 - val_loss: 1.3632\n",
      "Epoch 3/200\n",
      "363/363 [==============================] - 1s 1ms/step - loss: 0.6815 - val_loss: 0.8402\n",
      "Epoch 4/200\n",
      "363/363 [==============================] - 0s 1ms/step - loss: 0.6134 - val_loss: 0.5897\n",
      "Epoch 5/200\n",
      "363/363 [==============================] - 1s 1ms/step - loss: 0.5652 - val_loss: 0.5373\n",
      "Epoch 6/200\n",
      "363/363 [==============================] - 0s 1ms/step - loss: 0.5242 - val_loss: 0.5175\n",
      "Epoch 7/200\n",
      "363/363 [==============================] - 1s 1ms/step - loss: 0.4955 - val_loss: 0.4717\n",
      "Epoch 8/200\n",
      "363/363 [==============================] - 1s 1ms/step - loss: 0.4729 - val_loss: 0.4582\n",
      "Epoch 9/200\n",
      "363/363 [==============================] - 1s 1ms/step - loss: 0.4546 - val_loss: 0.4201\n",
      "Epoch 10/200\n",
      "363/363 [==============================] - 1s 1ms/step - loss: 0.4411 - val_loss: 0.4036\n",
      "Epoch 11/200\n",
      "363/363 [==============================] - 0s 1ms/step - loss: 0.4311 - val_loss: 0.4122\n",
      "Epoch 12/200\n",
      "363/363 [==============================] - 1s 2ms/step - loss: 0.4225 - val_loss: 0.3872\n",
      "Epoch 13/200\n",
      "363/363 [==============================] - 1s 1ms/step - loss: 0.4156 - val_loss: 0.3814\n",
      "Epoch 14/200\n",
      "363/363 [==============================] - 0s 1ms/step - loss: 0.4095 - val_loss: 0.3763\n",
      "Epoch 15/200\n",
      "363/363 [==============================] - 1s 1ms/step - loss: 0.4044 - val_loss: 0.3785\n",
      "Epoch 16/200\n",
      "363/363 [==============================] - 1s 1ms/step - loss: 0.4005 - val_loss: 0.3682\n",
      "Epoch 17/200\n",
      "363/363 [==============================] - 1s 1ms/step - loss: 0.3969 - val_loss: 0.3984\n",
      "Epoch 18/200\n",
      "363/363 [==============================] - 0s 1ms/step - loss: 0.3943 - val_loss: 0.3625\n",
      "Epoch 19/200\n",
      "363/363 [==============================] - 0s 1ms/step - loss: 0.3907 - val_loss: 0.3610\n",
      "Epoch 20/200\n",
      "363/363 [==============================] - 0s 1ms/step - loss: 0.3882 - val_loss: 0.4561\n",
      "Epoch 21/200\n",
      "363/363 [==============================] - 0s 1ms/step - loss: 0.3872 - val_loss: 0.3632\n",
      "Epoch 22/200\n",
      "363/363 [==============================] - 1s 1ms/step - loss: 0.3841 - val_loss: 0.4075\n",
      "Epoch 23/200\n",
      "363/363 [==============================] - 0s 1ms/step - loss: 0.3823 - val_loss: 0.4608\n",
      "Epoch 24/200\n",
      "363/363 [==============================] - 0s 1ms/step - loss: 0.3804 - val_loss: 0.3983\n",
      "Epoch 25/200\n",
      "363/363 [==============================] - 1s 2ms/step - loss: 0.3789 - val_loss: 0.3820\n",
      "Epoch 26/200\n",
      "363/363 [==============================] - 1s 2ms/step - loss: 0.3772 - val_loss: 0.3785\n",
      "Epoch 27/200\n",
      "363/363 [==============================] - 1s 2ms/step - loss: 0.3760 - val_loss: 0.4521\n",
      "Epoch 28/200\n",
      "363/363 [==============================] - 1s 1ms/step - loss: 0.3746 - val_loss: 0.3948\n",
      "Epoch 29/200\n",
      "363/363 [==============================] - 0s 1ms/step - loss: 0.3735 - val_loss: 0.3700\n"
     ]
    }
   ],
   "source": [
    "history = model.fit(X_train, y_train, epochs=200,\n",
    "                    validation_data=(X_valid, y_valid),\n",
    "                    callbacks=[checkpoint_cb, early_stopping_cb])"
   ]
  },
  {
   "cell_type": "code",
   "execution_count": 69,
   "id": "60660a61",
   "metadata": {},
   "outputs": [
    {
     "name": "stdout",
     "output_type": "stream",
     "text": [
      "162/162 [==============================] - 0s 903us/step - loss: 0.3888\n"
     ]
    }
   ],
   "source": [
    "model = keras.models.load_model(\"early_stop_model.h5\")\n",
    "mse_test = model.evaluate(X_test, y_test)"
   ]
  },
  {
   "cell_type": "code",
   "execution_count": null,
   "id": "93e75557",
   "metadata": {},
   "outputs": [],
   "source": []
  }
 ],
 "metadata": {
  "kernelspec": {
   "display_name": "Python 3 (ipykernel)",
   "language": "python",
   "name": "python3"
  },
  "language_info": {
   "codemirror_mode": {
    "name": "ipython",
    "version": 3
   },
   "file_extension": ".py",
   "mimetype": "text/x-python",
   "name": "python",
   "nbconvert_exporter": "python",
   "pygments_lexer": "ipython3",
   "version": "3.9.7"
  }
 },
 "nbformat": 4,
 "nbformat_minor": 5
}
